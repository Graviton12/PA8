{
 "cells": [
  {
   "cell_type": "markdown",
   "id": "04f152f2",
   "metadata": {},
   "source": [
    "# Assignment 8: Working with NumPy, Samia Mahmood, Version 1, Spring 2023"
   ]
  },
  {
   "cell_type": "markdown",
   "id": "6d9d3df2",
   "metadata": {},
   "source": [
    "#### a. Create a 2-by-2 NumPy array with elements 10,20,30,40 in it. Then use broadcasting to perform each of these operations:"
   ]
  },
  {
   "cell_type": "code",
   "execution_count": 1,
   "id": "1bf7aae4",
   "metadata": {},
   "outputs": [],
   "source": [
    "import numpy as np"
   ]
  },
  {
   "cell_type": "code",
   "execution_count": 14,
   "id": "a0c78f10",
   "metadata": {},
   "outputs": [
    {
     "data": {
      "text/plain": [
       "array([[10, 20],\n",
       "       [30, 40]])"
      ]
     },
     "execution_count": 14,
     "metadata": {},
     "output_type": "execute_result"
    }
   ],
   "source": [
    "a = np.array([[10,20], [30,40]])\n",
    "a"
   ]
  },
  {
   "cell_type": "markdown",
   "id": "eb3cecef",
   "metadata": {},
   "source": [
    "i. Square every element of the array"
   ]
  },
  {
   "cell_type": "code",
   "execution_count": 15,
   "id": "5f34c1f1",
   "metadata": {},
   "outputs": [
    {
     "name": "stdout",
     "output_type": "stream",
     "text": [
      "[[ 100  400]\n",
      " [ 900 1600]]\n"
     ]
    }
   ],
   "source": [
    "b=a**2\n",
    "print(b)"
   ]
  },
  {
   "cell_type": "markdown",
   "id": "3a730f0b",
   "metadata": {},
   "source": [
    "ii. Add 100 to every element of the array"
   ]
  },
  {
   "cell_type": "code",
   "execution_count": 16,
   "id": "5062f244",
   "metadata": {},
   "outputs": [
    {
     "name": "stdout",
     "output_type": "stream",
     "text": [
      "[[110 120]\n",
      " [130 140]]\n"
     ]
    }
   ],
   "source": [
    "c=a+100\n",
    "print(c)"
   ]
  },
  {
   "cell_type": "markdown",
   "id": "dbee646f",
   "metadata": {},
   "source": [
    "iii. Multiply every element of the array by 5."
   ]
  },
  {
   "cell_type": "code",
   "execution_count": 17,
   "id": "34fe0c97",
   "metadata": {},
   "outputs": [
    {
     "name": "stdout",
     "output_type": "stream",
     "text": [
      "[[ 50 100]\n",
      " [150 200]]\n"
     ]
    }
   ],
   "source": [
    "d=a*5\n",
    "print(d)"
   ]
  },
  {
   "cell_type": "markdown",
   "id": "a337c097",
   "metadata": {},
   "source": [
    "iv. Calculate the square root of each element in the array."
   ]
  },
  {
   "cell_type": "code",
   "execution_count": 20,
   "id": "f277c300",
   "metadata": {},
   "outputs": [
    {
     "name": "stdout",
     "output_type": "stream",
     "text": [
      "[[3.16227766 4.47213595]\n",
      " [5.47722558 6.32455532]]\n"
     ]
    }
   ],
   "source": [
    "e=np.sqrt(a)\n",
    "print(e)"
   ]
  },
  {
   "cell_type": "markdown",
   "id": "6d4804a2",
   "metadata": {},
   "source": [
    "#### b. Create a 3-by-3 array containing integers from 3 to 27 in multiples of 3.  Create a second 3-by-3 array with 9 elements evenly spaced between 10 and 20.  Multiply these arrays together and display the output"
   ]
  },
  {
   "cell_type": "code",
   "execution_count": 47,
   "id": "d607675f",
   "metadata": {},
   "outputs": [],
   "source": [
    "array1 = np.arange(3,28,3)"
   ]
  },
  {
   "cell_type": "code",
   "execution_count": 48,
   "id": "f6e87fe7",
   "metadata": {},
   "outputs": [
    {
     "data": {
      "text/plain": [
       "array([[ 3,  6,  9],\n",
       "       [12, 15, 18],\n",
       "       [21, 24, 27]])"
      ]
     },
     "execution_count": 48,
     "metadata": {},
     "output_type": "execute_result"
    }
   ],
   "source": [
    "array1.resize(3,3)\n",
    "array1"
   ]
  },
  {
   "cell_type": "code",
   "execution_count": 49,
   "id": "6343ccee",
   "metadata": {},
   "outputs": [],
   "source": [
    "array2 = np.linspace(10,20,9)"
   ]
  },
  {
   "cell_type": "code",
   "execution_count": 51,
   "id": "89e36fbc",
   "metadata": {},
   "outputs": [
    {
     "data": {
      "text/plain": [
       "array([[10.  , 11.25, 12.5 ],\n",
       "       [13.75, 15.  , 16.25],\n",
       "       [17.5 , 18.75, 20.  ]])"
      ]
     },
     "execution_count": 51,
     "metadata": {},
     "output_type": "execute_result"
    }
   ],
   "source": [
    "array2.resize(3,3)\n",
    "array2"
   ]
  },
  {
   "cell_type": "code",
   "execution_count": 52,
   "id": "1c3f5806",
   "metadata": {},
   "outputs": [
    {
     "data": {
      "text/plain": [
       "array([[ 30. ,  67.5, 112.5],\n",
       "       [165. , 225. , 292.5],\n",
       "       [367.5, 450. , 540. ]])"
      ]
     },
     "execution_count": 52,
     "metadata": {},
     "output_type": "execute_result"
    }
   ],
   "source": [
    "array3 = array1*array2\n",
    "array3"
   ]
  },
  {
   "cell_type": "markdown",
   "id": "8d1adc4f",
   "metadata": {},
   "source": [
    "#### c.\tAttached to the assignment are five .npy files that contain five values each. Read these files in and stack them into a unified dataset.  This would be a 5-by-5 NumPy array.  Then calculate the mean of each column of data"
   ]
  },
  {
   "cell_type": "code",
   "execution_count": 62,
   "id": "d92b7b5f",
   "metadata": {},
   "outputs": [
    {
     "data": {
      "text/plain": [
       "array([[52, 12, 81,  0, 58]])"
      ]
     },
     "execution_count": 62,
     "metadata": {},
     "output_type": "execute_result"
    }
   ],
   "source": [
    "data1 = np.load('process1.npy')\n",
    "data1"
   ]
  },
  {
   "cell_type": "code",
   "execution_count": 63,
   "id": "c1198543",
   "metadata": {},
   "outputs": [
    {
     "data": {
      "text/plain": [
       "array([[96,  4, 61, 16, 43]])"
      ]
     },
     "execution_count": 63,
     "metadata": {},
     "output_type": "execute_result"
    }
   ],
   "source": [
    "data2 = np.load('process2.npy')\n",
    "data2"
   ]
  },
  {
   "cell_type": "code",
   "execution_count": 64,
   "id": "051e804b",
   "metadata": {},
   "outputs": [
    {
     "data": {
      "text/plain": [
       "array([[38, 96, 45, 17, 58]])"
      ]
     },
     "execution_count": 64,
     "metadata": {},
     "output_type": "execute_result"
    }
   ],
   "source": [
    "data3 = np.load('process3.npy')\n",
    "data3"
   ]
  },
  {
   "cell_type": "code",
   "execution_count": 66,
   "id": "630f965c",
   "metadata": {},
   "outputs": [
    {
     "data": {
      "text/plain": [
       "array([[97, 21, 22, 25,  6]])"
      ]
     },
     "execution_count": 66,
     "metadata": {},
     "output_type": "execute_result"
    }
   ],
   "source": [
    "data4 = np.load('process4.npy')\n",
    "data4"
   ]
  },
  {
   "cell_type": "code",
   "execution_count": 67,
   "id": "53c864a6",
   "metadata": {},
   "outputs": [
    {
     "data": {
      "text/plain": [
       "array([[77,  6, 19,  2, 74]])"
      ]
     },
     "execution_count": 67,
     "metadata": {},
     "output_type": "execute_result"
    }
   ],
   "source": [
    "data5 = np.load('process5.npy')\n",
    "data5"
   ]
  },
  {
   "cell_type": "code",
   "execution_count": 72,
   "id": "d595dfb8",
   "metadata": {},
   "outputs": [],
   "source": [
    "dataset=np.concatenate([data1,data2,data3,data4,data5])"
   ]
  },
  {
   "cell_type": "code",
   "execution_count": 73,
   "id": "6c21f65d",
   "metadata": {},
   "outputs": [
    {
     "data": {
      "text/plain": [
       "array([[52, 12, 81,  0, 58],\n",
       "       [96,  4, 61, 16, 43],\n",
       "       [38, 96, 45, 17, 58],\n",
       "       [97, 21, 22, 25,  6],\n",
       "       [77,  6, 19,  2, 74]])"
      ]
     },
     "execution_count": 73,
     "metadata": {},
     "output_type": "execute_result"
    }
   ],
   "source": [
    "dataset"
   ]
  },
  {
   "cell_type": "code",
   "execution_count": 84,
   "id": "c0278d86",
   "metadata": {},
   "outputs": [
    {
     "data": {
      "text/plain": [
       "array([72. , 27.8, 45.6, 12. , 47.8])"
      ]
     },
     "execution_count": 84,
     "metadata": {},
     "output_type": "execute_result"
    }
   ],
   "source": [
    "dataset.mean(axis=0)"
   ]
  }
 ],
 "metadata": {
  "kernelspec": {
   "display_name": "Python 3 (ipykernel)",
   "language": "python",
   "name": "python3"
  },
  "language_info": {
   "codemirror_mode": {
    "name": "ipython",
    "version": 3
   },
   "file_extension": ".py",
   "mimetype": "text/x-python",
   "name": "python",
   "nbconvert_exporter": "python",
   "pygments_lexer": "ipython3",
   "version": "3.9.13"
  }
 },
 "nbformat": 4,
 "nbformat_minor": 5
}
